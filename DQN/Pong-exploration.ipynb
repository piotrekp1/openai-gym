{
 "cells": [
  {
   "cell_type": "code",
   "execution_count": 1,
   "metadata": {},
   "outputs": [],
   "source": [
    "import gym\n",
    "import matplotlib.pyplot as plt\n",
    "import time\n",
    "import numpy as np\n",
    "from skimage.measure import block_reduce\n"
   ]
  },
  {
   "cell_type": "code",
   "execution_count": 2,
   "metadata": {},
   "outputs": [],
   "source": [
    "def roll_append(np_array, item):\n",
    "    new_array = np.roll(np_array, -1, axis=0)\n",
    "    new_array[-1, ...] = item\n",
    "    return new_array"
   ]
  },
  {
   "cell_type": "code",
   "execution_count": 3,
   "metadata": {},
   "outputs": [],
   "source": [
    "ER_SIZE = 5000\n",
    "CUR_STATE_SIZE = 4\n",
    "\n",
    "states = np.zeros((ER_SIZE, 2, 84, 84, CUR_STATE_SIZE))\n",
    "actions = np.zeros(ER_SIZE)\n",
    "rewards = np.zeros(ER_SIZE)\n",
    "\n",
    "CUR_STATE_SIZE = 4\n",
    "cur_state = np.zeros((CUR_STATE_SIZE, 84, 84))"
   ]
  },
  {
   "cell_type": "code",
   "execution_count": 4,
   "metadata": {},
   "outputs": [
    {
     "name": "stdout",
     "output_type": "stream",
     "text": [
      "(210, 160, 3)\n",
      "(210, 160, 3)\n",
      "(210, 160, 3)\n",
      "(210, 160, 3)\n",
      "(210, 160, 3)\n",
      "(210, 160, 3)\n",
      "(210, 160, 3)\n",
      "(210, 160, 3)\n",
      "(210, 160, 3)\n",
      "(210, 160, 3)\n",
      "(210, 160, 3)\n",
      "(210, 160, 3)\n",
      "(210, 160, 3)\n",
      "(210, 160, 3)\n",
      "(210, 160, 3)\n"
     ]
    },
    {
     "ename": "KeyboardInterrupt",
     "evalue": "",
     "output_type": "error",
     "traceback": [
      "\u001b[0;31m---------------------------------------------------------------------------\u001b[0m",
      "\u001b[0;31mKeyboardInterrupt\u001b[0m                         Traceback (most recent call last)",
      "\u001b[0;32m<ipython-input-4-7080bd01fcc9>\u001b[0m in \u001b[0;36m<module>\u001b[0;34m\u001b[0m\n\u001b[1;32m     36\u001b[0m \u001b[0;34m\u001b[0m\u001b[0m\n\u001b[1;32m     37\u001b[0m \u001b[0;34m\u001b[0m\u001b[0m\n\u001b[0;32m---> 38\u001b[0;31m         \u001b[0mstates\u001b[0m \u001b[0;34m=\u001b[0m \u001b[0mroll_append\u001b[0m\u001b[0;34m(\u001b[0m\u001b[0mstates\u001b[0m\u001b[0;34m,\u001b[0m \u001b[0;34m[\u001b[0m\u001b[0mstate\u001b[0m\u001b[0;34m,\u001b[0m \u001b[0mstate_new\u001b[0m\u001b[0;34m]\u001b[0m\u001b[0;34m)\u001b[0m\u001b[0;34m\u001b[0m\u001b[0;34m\u001b[0m\u001b[0m\n\u001b[0m\u001b[1;32m     39\u001b[0m         \u001b[0mactions\u001b[0m \u001b[0;34m=\u001b[0m \u001b[0mroll_append\u001b[0m\u001b[0;34m(\u001b[0m\u001b[0mactions\u001b[0m\u001b[0;34m,\u001b[0m \u001b[0maction\u001b[0m\u001b[0;34m)\u001b[0m\u001b[0;34m\u001b[0m\u001b[0;34m\u001b[0m\u001b[0m\n\u001b[1;32m     40\u001b[0m         \u001b[0mrewards\u001b[0m \u001b[0;34m=\u001b[0m \u001b[0mroll_append\u001b[0m\u001b[0;34m(\u001b[0m\u001b[0mactions\u001b[0m\u001b[0;34m,\u001b[0m \u001b[0mreward\u001b[0m\u001b[0;34m)\u001b[0m\u001b[0;34m\u001b[0m\u001b[0;34m\u001b[0m\u001b[0m\n",
      "\u001b[0;32m<ipython-input-2-004d07668f66>\u001b[0m in \u001b[0;36mroll_append\u001b[0;34m(np_array, item)\u001b[0m\n\u001b[1;32m      1\u001b[0m \u001b[0;32mdef\u001b[0m \u001b[0mroll_append\u001b[0m\u001b[0;34m(\u001b[0m\u001b[0mnp_array\u001b[0m\u001b[0;34m,\u001b[0m \u001b[0mitem\u001b[0m\u001b[0;34m)\u001b[0m\u001b[0;34m:\u001b[0m\u001b[0;34m\u001b[0m\u001b[0;34m\u001b[0m\u001b[0m\n\u001b[0;32m----> 2\u001b[0;31m     \u001b[0mnew_array\u001b[0m \u001b[0;34m=\u001b[0m \u001b[0mnp\u001b[0m\u001b[0;34m.\u001b[0m\u001b[0mroll\u001b[0m\u001b[0;34m(\u001b[0m\u001b[0mnp_array\u001b[0m\u001b[0;34m,\u001b[0m \u001b[0;34m-\u001b[0m\u001b[0;36m1\u001b[0m\u001b[0;34m,\u001b[0m \u001b[0maxis\u001b[0m\u001b[0;34m=\u001b[0m\u001b[0;36m0\u001b[0m\u001b[0;34m)\u001b[0m\u001b[0;34m\u001b[0m\u001b[0;34m\u001b[0m\u001b[0m\n\u001b[0m\u001b[1;32m      3\u001b[0m     \u001b[0mnew_array\u001b[0m\u001b[0;34m[\u001b[0m\u001b[0;34m-\u001b[0m\u001b[0;36m1\u001b[0m\u001b[0;34m,\u001b[0m \u001b[0;34m...\u001b[0m\u001b[0;34m]\u001b[0m \u001b[0;34m=\u001b[0m \u001b[0mitem\u001b[0m\u001b[0;34m\u001b[0m\u001b[0;34m\u001b[0m\u001b[0m\n\u001b[1;32m      4\u001b[0m     \u001b[0;32mreturn\u001b[0m \u001b[0mnew_array\u001b[0m\u001b[0;34m\u001b[0m\u001b[0;34m\u001b[0m\u001b[0m\n",
      "\u001b[0;32m~/anaconda3/lib/python3.7/site-packages/numpy/core/numeric.py\u001b[0m in \u001b[0;36mroll\u001b[0;34m(a, shift, axis)\u001b[0m\n\u001b[1;32m   1484\u001b[0m         \u001b[0;32mfor\u001b[0m \u001b[0mindices\u001b[0m \u001b[0;32min\u001b[0m \u001b[0mitertools\u001b[0m\u001b[0;34m.\u001b[0m\u001b[0mproduct\u001b[0m\u001b[0;34m(\u001b[0m\u001b[0;34m*\u001b[0m\u001b[0mrolls\u001b[0m\u001b[0;34m)\u001b[0m\u001b[0;34m:\u001b[0m\u001b[0;34m\u001b[0m\u001b[0;34m\u001b[0m\u001b[0m\n\u001b[1;32m   1485\u001b[0m             \u001b[0marr_index\u001b[0m\u001b[0;34m,\u001b[0m \u001b[0mres_index\u001b[0m \u001b[0;34m=\u001b[0m \u001b[0mzip\u001b[0m\u001b[0;34m(\u001b[0m\u001b[0;34m*\u001b[0m\u001b[0mindices\u001b[0m\u001b[0;34m)\u001b[0m\u001b[0;34m\u001b[0m\u001b[0;34m\u001b[0m\u001b[0m\n\u001b[0;32m-> 1486\u001b[0;31m             \u001b[0mresult\u001b[0m\u001b[0;34m[\u001b[0m\u001b[0mres_index\u001b[0m\u001b[0;34m]\u001b[0m \u001b[0;34m=\u001b[0m \u001b[0ma\u001b[0m\u001b[0;34m[\u001b[0m\u001b[0marr_index\u001b[0m\u001b[0;34m]\u001b[0m\u001b[0;34m\u001b[0m\u001b[0;34m\u001b[0m\u001b[0m\n\u001b[0m\u001b[1;32m   1487\u001b[0m \u001b[0;34m\u001b[0m\u001b[0m\n\u001b[1;32m   1488\u001b[0m         \u001b[0;32mreturn\u001b[0m \u001b[0mresult\u001b[0m\u001b[0;34m\u001b[0m\u001b[0;34m\u001b[0m\u001b[0m\n",
      "\u001b[0;31mKeyboardInterrupt\u001b[0m: "
     ]
    }
   ],
   "source": [
    "def preprocess_image(image):\n",
    "    image = image[29:197, :, :]\n",
    "    bw = np.pad(np.dot(image, [0.2989, 0.5870, 0.1140]), [(0,0), (4,4)], mode='minimum')\n",
    "    res = block_reduce(bw, (2,2), np.max)\n",
    "    \n",
    "    del image\n",
    "    del bw\n",
    "    return res \n",
    "\n",
    "\n",
    "def get_state(observation):\n",
    "    global cur_state\n",
    "    cur_state = roll_append(cur_state, observation)\n",
    "    return np.moveaxis(cur_state, 0, 2)\n",
    "\n",
    "\n",
    "env = gym.make('Pong-v0')\n",
    "for i_episode in range(1):\n",
    "    observation = env.reset()\n",
    "    observation_processed = preprocess_image(observation)\n",
    "    state = get_state(observation_processed)\n",
    "    \n",
    "    for t in range(100):\n",
    "        #env.render()\\\n",
    "        if t > 20:\n",
    "            plt.figure()\n",
    "            plt.imshow(observation_processed, cmap=plt.get_cmap('gray'))\n",
    "            plt.show()\n",
    "        time.sleep(0.01)\n",
    "        print(observation.shape)\n",
    "        action = env.action_space.sample()\n",
    "        observation_new, reward, done, info = env.step(action)\n",
    "        observation_new_processed = preprocess_image(observation_new)\n",
    "        state_new = get_state(observation_processed)\n",
    "        \n",
    "        \n",
    "        \n",
    "        states = roll_append(states, [state, state_new])\n",
    "        actions = roll_append(actions, action)\n",
    "        rewards = roll_append(actions, reward)\n",
    "        \n",
    "        state = state_new\n",
    "        \n",
    "        if done:\n",
    "            print(\"Episode finished after {} timesteps\".format(t + 1))\n",
    "            break\n",
    "env.close()"
   ]
  },
  {
   "cell_type": "code",
   "execution_count": 13,
   "metadata": {},
   "outputs": [],
   "source": [
    "import time\n"
   ]
  },
  {
   "cell_type": "code",
   "execution_count": 29,
   "metadata": {},
   "outputs": [],
   "source": []
  },
  {
   "cell_type": "code",
   "execution_count": 39,
   "metadata": {},
   "outputs": [
    {
     "data": {
      "image/png": "[encoded data removed]",
      "text/plain": [
       "<Figure size 432x288 with 1 Axes>"
      ]
     },
     "metadata": {
      "needs_background": "light"
     },
     "output_type": "display_data"
    }
   ],
   "source": [
    "plt.imshow(np.dot(observation, [0.2989, 0.5870, 0.1140]))\n",
    "plt.show()"
   ]
  },
  {
   "cell_type": "code",
   "execution_count": 48,
   "metadata": {},
   "outputs": [
    {
     "data": {
      "text/plain": [
       "array([0, 1, 2, 3])"
      ]
     },
     "execution_count": 48,
     "metadata": {},
     "output_type": "execute_result"
    }
   ],
   "source": [
    "STATE_TIME_FRAMES = 4\n",
    "cur_state = np.array(range(STATE_TIME_FRAMES))\n",
    "cur_state"
   ]
  },
  {
   "cell_type": "code",
   "execution_count": 49,
   "metadata": {},
   "outputs": [
    {
     "name": "stdout",
     "output_type": "stream",
     "text": [
      "[ 1  2  3 10]\n",
      "[ 2  3 10 11]\n",
      "[ 3 10 11 12]\n",
      "[10 11 12 13]\n",
      "[11 12 13 14]\n"
     ]
    }
   ],
   "source": [
    "for i in range(10,15):\n",
    "    cur_state = np.roll(cur_state, -1)\n",
    "    cur_state[-1] = i\n",
    "    print(cur_state)"
   ]
  },
  {
   "cell_type": "code",
   "execution_count": 74,
   "metadata": {},
   "outputs": [],
   "source": [
    "def roll_append(np_array, item):\n",
    "    new_array = np.roll(np_array, -1, axis=0)\n",
    "    new_array[-1, ...] = item\n",
    "    return new_array"
   ]
  },
  {
   "cell_type": "code",
   "execution_count": 67,
   "metadata": {},
   "outputs": [],
   "source": [
    "new_s = preprocess_image(observation)"
   ]
  },
  {
   "cell_type": "code",
   "execution_count": 68,
   "metadata": {},
   "outputs": [
    {
     "data": {
      "text/plain": [
       "(80, 80)"
      ]
     },
     "execution_count": 68,
     "metadata": {},
     "output_type": "execute_result"
    }
   ],
   "source": [
    "new_s.shape"
   ]
  },
  {
   "cell_type": "code",
   "execution_count": 59,
   "metadata": {},
   "outputs": [
    {
     "data": {
      "text/plain": [
       "(80, 80)"
      ]
     },
     "execution_count": 59,
     "metadata": {},
     "output_type": "execute_result"
    }
   ],
   "source": [
    "\n",
    "block_reduce(new_s, (2,2), np.max).shape"
   ]
  },
  {
   "cell_type": "code",
   "execution_count": 76,
   "metadata": {},
   "outputs": [
    {
     "data": {
      "text/plain": [
       "array([[[  0.    ,   0.    ,   0.    , ...,   0.    ,   0.    ,\n",
       "           0.    ],\n",
       "        [  0.    ,   0.    ,   0.    , ...,   0.    ,   0.    ,\n",
       "           0.    ],\n",
       "        [  0.    ,   0.    ,   0.    , ...,   0.    ,   0.    ,\n",
       "           0.    ],\n",
       "        ...,\n",
       "        [  0.    ,   0.    ,   0.    , ...,   0.    ,   0.    ,\n",
       "           0.    ],\n",
       "        [  0.    ,   0.    ,   0.    , ...,   0.    ,   0.    ,\n",
       "           0.    ],\n",
       "        [  0.    ,   0.    ,   0.    , ...,   0.    ,   0.    ,\n",
       "           0.    ]],\n",
       "\n",
       "       [[  0.    ,   0.    ,   0.    , ...,   0.    ,   0.    ,\n",
       "           0.    ],\n",
       "        [  0.    ,   0.    ,   0.    , ...,   0.    ,   0.    ,\n",
       "           0.    ],\n",
       "        [  0.    ,   0.    ,   0.    , ...,   0.    ,   0.    ,\n",
       "           0.    ],\n",
       "        ...,\n",
       "        [  0.    ,   0.    ,   0.    , ...,   0.    ,   0.    ,\n",
       "           0.    ],\n",
       "        [  0.    ,   0.    ,   0.    , ...,   0.    ,   0.    ,\n",
       "           0.    ],\n",
       "        [  0.    ,   0.    ,   0.    , ...,   0.    ,   0.    ,\n",
       "           0.    ]],\n",
       "\n",
       "       [[  0.    ,   0.    ,   0.    , ...,   0.    ,   0.    ,\n",
       "           0.    ],\n",
       "        [  0.    ,   0.    ,   0.    , ...,   0.    ,   0.    ,\n",
       "           0.    ],\n",
       "        [  0.    ,   0.    ,   0.    , ...,   0.    ,   0.    ,\n",
       "           0.    ],\n",
       "        ...,\n",
       "        [  0.    ,   0.    ,   0.    , ...,   0.    ,   0.    ,\n",
       "           0.    ],\n",
       "        [  0.    ,   0.    ,   0.    , ...,   0.    ,   0.    ,\n",
       "           0.    ],\n",
       "        [  0.    ,   0.    ,   0.    , ...,   0.    ,   0.    ,\n",
       "           0.    ]],\n",
       "\n",
       "       [[235.9764, 235.9764, 235.9764, ..., 235.9764, 235.9764,\n",
       "         235.9764],\n",
       "        [ 87.2436,  87.2436,  87.2436, ...,  87.2436,  87.2436,\n",
       "          87.2436],\n",
       "        [ 87.2436,  87.2436,  87.2436, ...,  87.2436,  87.2436,\n",
       "          87.2436],\n",
       "        ...,\n",
       "        [ 87.2436,  87.2436,  87.2436, ...,  87.2436,  87.2436,\n",
       "          87.2436],\n",
       "        [ 87.2436,  87.2436,  87.2436, ...,  87.2436,  87.2436,\n",
       "          87.2436],\n",
       "        [ 87.2436,  87.2436,  87.2436, ...,  87.2436,  87.2436,\n",
       "          87.2436]]])"
      ]
     },
     "execution_count": 76,
     "metadata": {},
     "output_type": "execute_result"
    }
   ],
   "source": [
    "roll_append(np.zeros((4, 80,80)), new_s)"
   ]
  },
  {
   "cell_type": "code",
   "execution_count": 20,
   "metadata": {},
   "outputs": [],
   "source": [
    "arr = np.array([[1,2,3],[4,5,6]])"
   ]
  },
  {
   "cell_type": "code",
   "execution_count": 21,
   "metadata": {},
   "outputs": [
    {
     "data": {
      "text/plain": [
       "4"
      ]
     },
     "execution_count": 21,
     "metadata": {},
     "output_type": "execute_result"
    }
   ],
   "source": [
    "arr[1, 0]"
   ]
  },
  {
   "cell_type": "code",
   "execution_count": 26,
   "metadata": {},
   "outputs": [
    {
     "data": {
      "text/plain": [
       "4"
      ]
     },
     "execution_count": 26,
     "metadata": {},
     "output_type": "execute_result"
    }
   ],
   "source": [
    "arr.swapaxes(0,1)[0, 1]"
   ]
  },
  {
   "cell_type": "code",
   "execution_count": 3,
   "metadata": {},
   "outputs": [
    {
     "data": {
      "text/plain": [
       "[array([1, 3, 5]), 5]"
      ]
     },
     "execution_count": 3,
     "metadata": {},
     "output_type": "execute_result"
    }
   ],
   "source": [
    "import numpy as np\n",
    "[np.array([1,3,5]), 5]"
   ]
  },
  {
   "cell_type": "code",
   "execution_count": 4,
   "metadata": {},
   "outputs": [],
   "source": [
    "from collections import deque"
   ]
  },
  {
   "cell_type": "code",
   "execution_count": 6,
   "metadata": {},
   "outputs": [],
   "source": [
    "a = deque(maxlen=4)"
   ]
  },
  {
   "cell_type": "code",
   "execution_count": 11,
   "metadata": {},
   "outputs": [],
   "source": [
    "a.append(5)"
   ]
  },
  {
   "cell_type": "code",
   "execution_count": 12,
   "metadata": {},
   "outputs": [
    {
     "data": {
      "text/plain": [
       "deque([5, 5, 5, 5])"
      ]
     },
     "execution_count": 12,
     "metadata": {},
     "output_type": "execute_result"
    }
   ],
   "source": [
    "a"
   ]
  },
  {
   "cell_type": "code",
   "execution_count": 13,
   "metadata": {},
   "outputs": [
    {
     "data": {
      "text/plain": [
       "array([5, 5, 5, 5])"
      ]
     },
     "execution_count": 13,
     "metadata": {},
     "output_type": "execute_result"
    }
   ],
   "source": [
    "np.array(a)"
   ]
  },
  {
   "cell_type": "code",
   "execution_count": 14,
   "metadata": {
    "scrolled": true
   },
   "outputs": [
    {
     "name": "stdout",
     "output_type": "stream",
     "text": [
      "(210, 160, 3)\n",
      "(210, 160, 3)\n",
      "(210, 160, 3)\n",
      "(210, 160, 3)\n",
      "(210, 160, 3)\n",
      "(210, 160, 3)\n",
      "(210, 160, 3)\n",
      "(210, 160, 3)\n",
      "(210, 160, 3)\n",
      "(210, 160, 3)\n",
      "(210, 160, 3)\n",
      "(210, 160, 3)\n",
      "(210, 160, 3)\n",
      "(210, 160, 3)\n",
      "(210, 160, 3)\n",
      "(210, 160, 3)\n",
      "(210, 160, 3)\n",
      "(210, 160, 3)\n",
      "(210, 160, 3)\n",
      "(210, 160, 3)\n",
      "(210, 160, 3)\n",
      "(210, 160, 3)\n",
      "(210, 160, 3)\n",
      "(210, 160, 3)\n",
      "(210, 160, 3)\n",
      "(210, 160, 3)\n",
      "(210, 160, 3)\n",
      "(210, 160, 3)\n",
      "(210, 160, 3)\n",
      "(210, 160, 3)\n",
      "(210, 160, 3)\n",
      "(210, 160, 3)\n",
      "(210, 160, 3)\n",
      "(210, 160, 3)\n",
      "(210, 160, 3)\n",
      "(210, 160, 3)\n",
      "(210, 160, 3)\n",
      "(210, 160, 3)\n",
      "(210, 160, 3)\n",
      "(210, 160, 3)\n",
      "(210, 160, 3)\n",
      "(210, 160, 3)\n",
      "(210, 160, 3)\n",
      "(210, 160, 3)\n",
      "(210, 160, 3)\n",
      "(210, 160, 3)\n",
      "(210, 160, 3)\n",
      "(210, 160, 3)\n",
      "(210, 160, 3)\n",
      "(210, 160, 3)\n",
      "(210, 160, 3)\n",
      "(210, 160, 3)\n",
      "(210, 160, 3)\n",
      "(210, 160, 3)\n",
      "(210, 160, 3)\n",
      "(210, 160, 3)\n",
      "(210, 160, 3)\n",
      "(210, 160, 3)\n",
      "(210, 160, 3)\n",
      "(210, 160, 3)\n",
      "(210, 160, 3)\n",
      "(210, 160, 3)\n",
      "(210, 160, 3)\n",
      "(210, 160, 3)\n",
      "(210, 160, 3)\n",
      "(210, 160, 3)\n",
      "(210, 160, 3)\n",
      "(210, 160, 3)\n",
      "(210, 160, 3)\n",
      "(210, 160, 3)\n",
      "(210, 160, 3)\n",
      "(210, 160, 3)\n",
      "(210, 160, 3)\n",
      "(210, 160, 3)\n",
      "(210, 160, 3)\n",
      "(210, 160, 3)\n",
      "(210, 160, 3)\n",
      "(210, 160, 3)\n",
      "(210, 160, 3)\n",
      "(210, 160, 3)\n",
      "(210, 160, 3)\n",
      "(210, 160, 3)\n",
      "(210, 160, 3)\n",
      "(210, 160, 3)\n",
      "(210, 160, 3)\n",
      "(210, 160, 3)\n",
      "(210, 160, 3)\n",
      "(210, 160, 3)\n",
      "(210, 160, 3)\n",
      "(210, 160, 3)\n",
      "(210, 160, 3)\n",
      "(210, 160, 3)\n",
      "(210, 160, 3)\n",
      "(210, 160, 3)\n",
      "(210, 160, 3)\n",
      "(210, 160, 3)\n",
      "(210, 160, 3)\n",
      "(210, 160, 3)\n",
      "(210, 160, 3)\n",
      "(210, 160, 3)\n"
     ]
    }
   ],
   "source": [
    "import gym\n",
    "import matplotlib.pyplot as plt\n",
    "import time\n",
    "import numpy as np\n",
    "from skimage.measure import block_reduce\n",
    "from collections import deque\n",
    "\n",
    "ER_SIZE = 5000\n",
    "CUR_STATE_SIZE = 4\n",
    "\n",
    "ER = deque(maxlen=ER_SIZE)\n",
    "cur_state = deque(maxlen=4)\n",
    "\n",
    "\n",
    "def preprocess_image(image):\n",
    "    image = image[29:197, :, :]\n",
    "    bw = np.pad(np.dot(image, [0.2989, 0.5870, 0.1140]), [(0, 0), (4, 4)], mode='minimum')\n",
    "    res = block_reduce(bw, (2, 2), np.max)\n",
    "\n",
    "    del image\n",
    "    del bw\n",
    "    return res\n",
    "\n",
    "\n",
    "def get_state(observation):\n",
    "    global cur_state\n",
    "    cur_state.append(observation)\n",
    "    return np.array(cur_state)\n",
    "\n",
    "\n",
    "env = gym.make('Pong-v0')\n",
    "for i_episode in range(1):\n",
    "    observation = env.reset()\n",
    "    observation_processed = preprocess_image(observation)\n",
    "    state = get_state(observation_processed)\n",
    "\n",
    "    for t in range(100):\n",
    "        # env.render()\\\n",
    "        # if t > 20:\n",
    "        #    plt.figure()\n",
    "        #    plt.imshow(observation_processed, cmap=plt.get_cmap('gray'))\n",
    "        #    plt.show()\n",
    "        time.sleep(0.01)\n",
    "        print(observation.shape)\n",
    "        action = env.action_space.sample()\n",
    "        observation_new, reward, done, info = env.step(action)\n",
    "        observation_new_processed = preprocess_image(observation_new)\n",
    "        state_new = get_state(observation_new_processed)\n",
    "\n",
    "        ER.append([state, action, reward, state_new])\n",
    "\n",
    "        state = state_new\n",
    "\n",
    "        if done:\n",
    "            print(\"Episode finished after {} timesteps\".format(t + 1))\n",
    "            break\n",
    "env.close()\n"
   ]
  },
  {
   "cell_type": "code",
   "execution_count": 25,
   "metadata": {
    "scrolled": false
   },
   "outputs": [
    {
     "data": {
      "text/plain": [
       "[array([[[ 74.3427,  74.3427,  74.3427, ...,  74.3427,  74.3427,\n",
       "           74.3427],\n",
       "         [ 74.3427,  74.3427,  74.3427, ...,  74.3427,  74.3427,\n",
       "           74.3427],\n",
       "         [106.7481, 106.7481, 106.7481, ..., 106.7481, 106.7481,\n",
       "          106.7481],\n",
       "         ...,\n",
       "         [106.7481, 106.7481, 106.7481, ..., 106.7481, 106.7481,\n",
       "          106.7481],\n",
       "         [106.7481, 106.7481, 106.7481, ..., 106.7481, 106.7481,\n",
       "          106.7481],\n",
       "         [ 74.3427,  74.3427,  74.3427, ...,  74.3427,  74.3427,\n",
       "           74.3427]],\n",
       " \n",
       "        [[235.9764, 235.9764, 235.9764, ..., 235.9764, 235.9764,\n",
       "          235.9764],\n",
       "         [235.9764, 235.9764, 235.9764, ..., 235.9764, 235.9764,\n",
       "          235.9764],\n",
       "         [235.9764, 235.9764, 235.9764, ..., 235.9764, 235.9764,\n",
       "          235.9764],\n",
       "         ...,\n",
       "         [ 87.2436,  87.2436,  87.2436, ...,  87.2436,  87.2436,\n",
       "           87.2436],\n",
       "         [235.9764, 235.9764, 235.9764, ..., 235.9764, 235.9764,\n",
       "          235.9764],\n",
       "         [235.9764, 235.9764, 235.9764, ..., 235.9764, 235.9764,\n",
       "          235.9764]],\n",
       " \n",
       "        [[235.9764, 235.9764, 235.9764, ..., 235.9764, 235.9764,\n",
       "          235.9764],\n",
       "         [235.9764, 235.9764, 235.9764, ..., 235.9764, 235.9764,\n",
       "          235.9764],\n",
       "         [235.9764, 235.9764, 235.9764, ..., 235.9764, 235.9764,\n",
       "          235.9764],\n",
       "         ...,\n",
       "         [ 87.2436,  87.2436,  87.2436, ...,  87.2436,  87.2436,\n",
       "           87.2436],\n",
       "         [235.9764, 235.9764, 235.9764, ..., 235.9764, 235.9764,\n",
       "          235.9764],\n",
       "         [235.9764, 235.9764, 235.9764, ..., 235.9764, 235.9764,\n",
       "          235.9764]],\n",
       " \n",
       "        [[235.9764, 235.9764, 235.9764, ..., 235.9764, 235.9764,\n",
       "          235.9764],\n",
       "         [235.9764, 235.9764, 235.9764, ..., 235.9764, 235.9764,\n",
       "          235.9764],\n",
       "         [235.9764, 235.9764, 235.9764, ..., 235.9764, 235.9764,\n",
       "          235.9764],\n",
       "         ...,\n",
       "         [ 87.2436,  87.2436,  87.2436, ...,  87.2436,  87.2436,\n",
       "           87.2436],\n",
       "         [235.9764, 235.9764, 235.9764, ..., 235.9764, 235.9764,\n",
       "          235.9764],\n",
       "         [235.9764, 235.9764, 235.9764, ..., 235.9764, 235.9764,\n",
       "          235.9764]]]),\n",
       " 1,\n",
       " 0.0,\n",
       " array([[[235.9764, 235.9764, 235.9764, ..., 235.9764, 235.9764,\n",
       "          235.9764],\n",
       "         [235.9764, 235.9764, 235.9764, ..., 235.9764, 235.9764,\n",
       "          235.9764],\n",
       "         [235.9764, 235.9764, 235.9764, ..., 235.9764, 235.9764,\n",
       "          235.9764],\n",
       "         ...,\n",
       "         [ 87.2436,  87.2436,  87.2436, ...,  87.2436,  87.2436,\n",
       "           87.2436],\n",
       "         [235.9764, 235.9764, 235.9764, ..., 235.9764, 235.9764,\n",
       "          235.9764],\n",
       "         [235.9764, 235.9764, 235.9764, ..., 235.9764, 235.9764,\n",
       "          235.9764]],\n",
       " \n",
       "        [[235.9764, 235.9764, 235.9764, ..., 235.9764, 235.9764,\n",
       "          235.9764],\n",
       "         [235.9764, 235.9764, 235.9764, ..., 235.9764, 235.9764,\n",
       "          235.9764],\n",
       "         [235.9764, 235.9764, 235.9764, ..., 235.9764, 235.9764,\n",
       "          235.9764],\n",
       "         ...,\n",
       "         [ 87.2436,  87.2436,  87.2436, ...,  87.2436,  87.2436,\n",
       "           87.2436],\n",
       "         [235.9764, 235.9764, 235.9764, ..., 235.9764, 235.9764,\n",
       "          235.9764],\n",
       "         [235.9764, 235.9764, 235.9764, ..., 235.9764, 235.9764,\n",
       "          235.9764]],\n",
       " \n",
       "        [[235.9764, 235.9764, 235.9764, ..., 235.9764, 235.9764,\n",
       "          235.9764],\n",
       "         [235.9764, 235.9764, 235.9764, ..., 235.9764, 235.9764,\n",
       "          235.9764],\n",
       "         [235.9764, 235.9764, 235.9764, ..., 235.9764, 235.9764,\n",
       "          235.9764],\n",
       "         ...,\n",
       "         [ 87.2436,  87.2436,  87.2436, ...,  87.2436,  87.2436,\n",
       "           87.2436],\n",
       "         [235.9764, 235.9764, 235.9764, ..., 235.9764, 235.9764,\n",
       "          235.9764],\n",
       "         [235.9764, 235.9764, 235.9764, ..., 235.9764, 235.9764,\n",
       "          235.9764]],\n",
       " \n",
       "        [[235.9764, 235.9764, 235.9764, ..., 235.9764, 235.9764,\n",
       "          235.9764],\n",
       "         [235.9764, 235.9764, 235.9764, ..., 235.9764, 235.9764,\n",
       "          235.9764],\n",
       "         [235.9764, 235.9764, 235.9764, ..., 235.9764, 235.9764,\n",
       "          235.9764],\n",
       "         ...,\n",
       "         [ 87.2436,  87.2436,  87.2436, ...,  87.2436,  87.2436,\n",
       "           87.2436],\n",
       "         [235.9764, 235.9764, 235.9764, ..., 235.9764, 235.9764,\n",
       "          235.9764],\n",
       "         [235.9764, 235.9764, 235.9764, ..., 235.9764, 235.9764,\n",
       "          235.9764]]])]"
      ]
     },
     "execution_count": 25,
     "metadata": {},
     "output_type": "execute_result"
    }
   ],
   "source": [
    "ER[3]"
   ]
  },
  {
   "cell_type": "code",
   "execution_count": 33,
   "metadata": {},
   "outputs": [],
   "source": [
    "b = deque(maxlen=5000)\n",
    "for i in range(5000):\n",
    "    b.append([i,4])"
   ]
  },
  {
   "cell_type": "code",
   "execution_count": 21,
   "metadata": {},
   "outputs": [
    {
     "data": {
      "text/plain": [
       "array([   0,    1,    2, ..., 4997, 4998, 4999])"
      ]
     },
     "execution_count": 21,
     "metadata": {},
     "output_type": "execute_result"
    }
   ],
   "source": [
    "np.array(b)"
   ]
  },
  {
   "cell_type": "code",
   "execution_count": 36,
   "metadata": {},
   "outputs": [
    {
     "data": {
      "text/plain": [
       "5000"
      ]
     },
     "execution_count": 36,
     "metadata": {},
     "output_type": "execute_result"
    }
   ],
   "source": [
    "len(b)"
   ]
  },
  {
   "cell_type": "code",
   "execution_count": 48,
   "metadata": {
    "scrolled": true
   },
   "outputs": [
    {
     "ename": "ValueError",
     "evalue": "'a' must be 1-dimensional",
     "output_type": "error",
     "traceback": [
      "\u001b[0;31m---------------------------------------------------------------------------\u001b[0m",
      "\u001b[0;31mValueError\u001b[0m                                Traceback (most recent call last)",
      "\u001b[0;32m<ipython-input-48-cfa4e88f958b>\u001b[0m in \u001b[0;36m<module>\u001b[0;34m\u001b[0m\n\u001b[0;32m----> 1\u001b[0;31m \u001b[0mnp\u001b[0m\u001b[0;34m.\u001b[0m\u001b[0mrandom\u001b[0m\u001b[0;34m.\u001b[0m\u001b[0mchoice\u001b[0m\u001b[0;34m(\u001b[0m\u001b[0mb\u001b[0m\u001b[0;34m,\u001b[0m \u001b[0;36m100\u001b[0m\u001b[0;34m)\u001b[0m\u001b[0;34m\u001b[0m\u001b[0;34m\u001b[0m\u001b[0m\n\u001b[0m",
      "\u001b[0;32mmtrand.pyx\u001b[0m in \u001b[0;36mmtrand.RandomState.choice\u001b[0;34m()\u001b[0m\n",
      "\u001b[0;31mValueError\u001b[0m: 'a' must be 1-dimensional"
     ]
    }
   ],
   "source": [
    "np.random.choice(b, 100)"
   ]
  },
  {
   "cell_type": "code",
   "execution_count": 50,
   "metadata": {},
   "outputs": [
    {
     "data": {
      "text/plain": [
       "array([1, list([1, 2])], dtype=object)"
      ]
     },
     "execution_count": 50,
     "metadata": {},
     "output_type": "execute_result"
    }
   ],
   "source": [
    "np.array([1, [1,2]])"
   ]
  },
  {
   "cell_type": "code",
   "execution_count": 49,
   "metadata": {},
   "outputs": [
    {
     "data": {
      "text/plain": [
       "[[1722, 4],\n",
       " [1603, 4],\n",
       " [4189, 4],\n",
       " [706, 4],\n",
       " [1184, 4],\n",
       " [1620, 4],\n",
       " [4284, 4],\n",
       " [2225, 4],\n",
       " [2539, 4],\n",
       " [3262, 4],\n",
       " [2662, 4],\n",
       " [754, 4],\n",
       " [4763, 4],\n",
       " [2193, 4],\n",
       " [1140, 4],\n",
       " [2339, 4],\n",
       " [4759, 4],\n",
       " [2541, 4],\n",
       " [2825, 4],\n",
       " [3559, 4],\n",
       " [3849, 4],\n",
       " [225, 4],\n",
       " [2882, 4],\n",
       " [4116, 4],\n",
       " [3950, 4],\n",
       " [4149, 4],\n",
       " [196, 4],\n",
       " [1997, 4],\n",
       " [4679, 4],\n",
       " [2633, 4],\n",
       " [4937, 4],\n",
       " [3817, 4],\n",
       " [364, 4],\n",
       " [1556, 4],\n",
       " [680, 4],\n",
       " [1818, 4],\n",
       " [1309, 4],\n",
       " [390, 4],\n",
       " [1895, 4],\n",
       " [3857, 4],\n",
       " [3902, 4],\n",
       " [4765, 4],\n",
       " [4006, 4],\n",
       " [4680, 4],\n",
       " [1487, 4],\n",
       " [3692, 4],\n",
       " [1764, 4],\n",
       " [4155, 4],\n",
       " [130, 4],\n",
       " [4652, 4],\n",
       " [4880, 4],\n",
       " [2050, 4],\n",
       " [1685, 4],\n",
       " [1744, 4],\n",
       " [1894, 4],\n",
       " [1900, 4],\n",
       " [2834, 4],\n",
       " [1430, 4],\n",
       " [416, 4],\n",
       " [3705, 4],\n",
       " [3779, 4],\n",
       " [1420, 4],\n",
       " [195, 4],\n",
       " [2487, 4],\n",
       " [1177, 4],\n",
       " [2577, 4],\n",
       " [2551, 4],\n",
       " [4152, 4],\n",
       " [3460, 4],\n",
       " [4056, 4],\n",
       " [1149, 4],\n",
       " [3994, 4],\n",
       " [4717, 4],\n",
       " [2451, 4],\n",
       " [3784, 4],\n",
       " [4546, 4],\n",
       " [118, 4],\n",
       " [3603, 4],\n",
       " [3461, 4],\n",
       " [1018, 4],\n",
       " [3417, 4],\n",
       " [241, 4],\n",
       " [4439, 4],\n",
       " [2757, 4],\n",
       " [748, 4],\n",
       " [3641, 4],\n",
       " [733, 4],\n",
       " [718, 4],\n",
       " [3722, 4],\n",
       " [4024, 4],\n",
       " [3282, 4],\n",
       " [4069, 4],\n",
       " [4401, 4],\n",
       " [3878, 4],\n",
       " [3363, 4],\n",
       " [620, 4],\n",
       " [2278, 4],\n",
       " [547, 4],\n",
       " [579, 4],\n",
       " [2212, 4]]"
      ]
     },
     "execution_count": 49,
     "metadata": {},
     "output_type": "execute_result"
    }
   ],
   "source": [
    "random.sample(b, 100)[]"
   ]
  },
  {
   "cell_type": "code",
   "execution_count": 55,
   "metadata": {},
   "outputs": [
    {
     "data": {
      "text/plain": [
       "0.43298850497805463"
      ]
     },
     "execution_count": 55,
     "metadata": {},
     "output_type": "execute_result"
    }
   ],
   "source": [
    "np.random.random()"
   ]
  },
  {
   "cell_type": "code",
   "execution_count": 56,
   "metadata": {},
   "outputs": [
    {
     "data": {
      "text/plain": [
       "1559481529.8085866"
      ]
     },
     "execution_count": 56,
     "metadata": {},
     "output_type": "execute_result"
    }
   ],
   "source": [
    "time.time()"
   ]
  },
  {
   "cell_type": "code",
   "execution_count": null,
   "metadata": {},
   "outputs": [],
   "source": []
  }
 ],
 "metadata": {
  "kernelspec": {
   "display_name": "Python 3",
   "language": "python",
   "name": "python3"
  }
 },
 "nbformat": 4,
 "nbformat_minor": 2
}
